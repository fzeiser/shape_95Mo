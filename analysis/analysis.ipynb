{
 "cells": [
  {
   "cell_type": "code",
   "execution_count": 1,
   "metadata": {},
   "outputs": [],
   "source": [
    "import numpy as np\n",
    "import matplotlib.pyplot as plt\n",
    "from ipywidgets import interact\n",
    "\n",
    "from combine_ratios import *\n"
   ]
  },
  {
   "cell_type": "code",
   "execution_count": 2,
   "metadata": {},
   "outputs": [],
   "source": [
    "# format: Ex    x   y\n",
    "ratios = np.loadtxt(\"ratios.txt\")\n",
    "# ratios = np.loadtxt(\"ratios_fake.txt\")\n",
    "\n",
    "# aribrarity starting at a \"later\" point\n",
    "ratios = ratios[20:, :]\n",
    "\n",
    "# get the differnt ratios grouped by the same Ex\n",
    "Ex, groups = group_by(ratios)\n",
    "Ngroups = len(groups)\n",
    "\n",
    "# (log-lin) fit to each group \n",
    "fits = [curve_fit(fit_func, group[:, 0], group[:, 1])\n",
    "        for group in groups]\n",
    "\n",
    "# ratios for each group\n",
    "xs = [group[:, 0] for group in groups]"
   ]
  },
  {
   "cell_type": "markdown",
   "metadata": {},
   "source": [
    "The \"sewing\" works is implemented like this:\n",
    "- I make a log linear fit to each \"group\" of ratios.\n",
    "- I define an ordering of the group, where the lowest group is from the lowest Ex_initial, here `ExI = 2.2`\n",
    "- I find the `yvalue` of the fit at `x_mean(group[i])`  for group `i` and group `i+1`\n",
    "- Then I scale group `i+1`  with `yvalue[i]/yvalue[i+1]`\n",
    "- I repeat this for all `i` (except of course the last one...)"
   ]
  },
  {
   "cell_type": "code",
   "execution_count": 3,
   "metadata": {},
   "outputs": [],
   "source": [
    "# This version turn around the group structure: Start at highest Ex, go down to low Ex (just as a test)\n",
    "scaling = np.ones(Ngroups)\n",
    "for i, x in reversed(list(enumerate(xs))):\n",
    "    if i == 0:\n",
    "        break\n",
    "    xmean = np.mean(x)\n",
    "    popt_first = fits[i][0]\n",
    "    popt_next = fits[i-1][0]\n",
    "\n",
    "    yfirst = fit_func(xmean, *popt_first) * scaling[i]\n",
    "    ynext = fit_func(xmean, *popt_next) * scaling[i-1]\n",
    "\n",
    "    scaling[i-1] = yfirst/ynext"
   ]
  },
  {
   "cell_type": "code",
   "execution_count": 4,
   "metadata": {},
   "outputs": [],
   "source": [
    "# compare to known input\n",
    "gsf_true = np.loadtxt(\"../gsf.txt\")"
   ]
  },
  {
   "cell_type": "code",
   "execution_count": 5,
   "metadata": {},
   "outputs": [],
   "source": [
    "def plot(gsf_scaling=0.05):\n",
    "    fig, ax = plt.subplots()\n",
    "\n",
    "    ax.plot(gsf_true[:, 0], gsf_true[:, 1]*gsf_scaling, \"k--\", alpha=0.7, label=\"input\")\n",
    "    \n",
    "    fit_values_x = np.array([])\n",
    "    fit_values_y = np.array([])\n",
    "#     for Ex_tmp, x, (popt, pcov), scale in zip(Ex, xs, fits, scaling):\n",
    "#         fit_values_x = np.append(fit_values_x, x)\n",
    "#         fit_values_y = np.append(fit_values_y, fit_func(x, *popt) * scale)\n",
    "#         ax.plot(x, fit_func(x, *popt) * scale, alpha=0.5, label=f\"{Ex_tmp}\")\n",
    "#         # print(np.mean(x))\n",
    "        \n",
    "    for Ex_tmp, group, scale in zip(Ex, groups, scaling):\n",
    "        ax.plot(group[:, 0], group[:, 1] * scale, alpha=0.5, label=f\"{Ex_tmp}\")\n",
    "        # print(np.mean(x))\n",
    "\n",
    "    \n",
    "        \n",
    "    fig.legend(ncol=5)\n",
    "    ax.set_yscale(\"log\")\n",
    "    return fig, ax"
   ]
  },
  {
   "cell_type": "code",
   "execution_count": 6,
   "metadata": {
    "scrolled": false
   },
   "outputs": [
    {
     "data": {
      "application/vnd.jupyter.widget-view+json": {
       "model_id": "6a3c00741abd4cbe9430c452bc674b3a",
       "version_major": 2,
       "version_minor": 0
      },
      "text/plain": [
       "interactive(children=(FloatSlider(value=0.05, description='gsf_scaling', max=1.5, min=0.05, step=0.01), Output…"
      ]
     },
     "metadata": {},
     "output_type": "display_data"
    },
    {
     "data": {
      "text/plain": [
       "<function __main__.plot(gsf_scaling=0.05)>"
      ]
     },
     "execution_count": 6,
     "metadata": {},
     "output_type": "execute_result"
    }
   ],
   "source": [
    "# the absolute scaing is a free parameter\n",
    "interact(plot, gsf_scaling=(0.05, 1.5, 0.01))"
   ]
  },
  {
   "cell_type": "code",
   "execution_count": 7,
   "metadata": {},
   "outputs": [
    {
     "data": {
      "image/png": "[encoded data removed]",
      "text/plain": [
       "<Figure size 432x288 with 1 Axes>"
      ]
     },
     "metadata": {
      "needs_background": "light"
     },
     "output_type": "display_data"
    }
   ],
   "source": [
    "fig, ax = plot(gsf_scaling=1.05)\n",
    "fig.savefig(\"ratios.png\")"
   ]
  },
  {
   "cell_type": "code",
   "execution_count": 8,
   "metadata": {},
   "outputs": [],
   "source": [
    "# test what would happen with a faked set"
   ]
  },
  {
   "cell_type": "code",
   "execution_count": 9,
   "metadata": {},
   "outputs": [],
   "source": [
    "ratios_fake = ratios.copy()\n",
    "fgsf = log_interp1d(gsf_true[:, 0], gsf_true[:, 1])\n",
    "ratios_fake[:, 2] = fgsf(ratios_fake[:, 1])\n",
    "np.savetxt(\"ratios_fake.txt\", ratios_fake)"
   ]
  }
 ],
 "metadata": {
  "kernelspec": {
   "display_name": "Python 3",
   "language": "python",
   "name": "python3"
  },
  "language_info": {
   "codemirror_mode": {
    "name": "ipython",
    "version": 3
   },
   "file_extension": ".py",
   "mimetype": "text/x-python",
   "name": "python",
   "nbconvert_exporter": "python",
   "pygments_lexer": "ipython3",
   "version": "3.7.3"
  }
 },
 "nbformat": 4,
 "nbformat_minor": 2
}
