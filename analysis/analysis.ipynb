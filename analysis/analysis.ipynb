{
 "cells": [
  {
   "cell_type": "code",
   "execution_count": 5,
   "metadata": {},
   "outputs": [],
   "source": [
    "import numpy as np\n",
    "import matplotlib.pyplot as plt\n",
    "from ipywidgets import interact\n",
    "\n",
    "from combine_ratios import *\n"
   ]
  },
  {
   "cell_type": "code",
   "execution_count": 3,
   "metadata": {},
   "outputs": [],
   "source": [
    "# format: Ex    x   y\n",
    "ratios = np.loadtxt(\"ratios.txt\")\n",
    "\n",
    "# aribrarity starting at a \"later\" point\n",
    "ratios = ratios[20:, :]\n",
    "\n",
    "Ex, groups = group_by(ratios)\n",
    "Ngroups = len(groups)\n",
    "fits = [curve_fit(fit_func, group[:, 0], group[:, 1])\n",
    "        for group in groups]\n",
    "\n",
    "xs = [group[:, 0] for group in groups]\n",
    "\n",
    "scaling = np.ones(Ngroups)\n",
    "for i, x in enumerate(xs):\n",
    "    if i == Ngroups-1:\n",
    "        break\n",
    "    xmean = np.mean(x)\n",
    "    popt_first = fits[i][0]\n",
    "    popt_next = fits[i+1][0]\n",
    "\n",
    "    yfirst = fit_func(xmean, *popt_first) * scaling[i]\n",
    "    ynext = fit_func(xmean, *popt_next) * scaling[i+1]\n",
    "\n",
    "    scaling[i+1] = yfirst/ynext"
   ]
  },
  {
   "cell_type": "code",
   "execution_count": 37,
   "metadata": {},
   "outputs": [],
   "source": [
    "def plot(gsf_scaling=0.05):\n",
    "    fig, ax = plt.subplots()\n",
    "    \n",
    "    gsf_true = np.loadtxt(\"../gsf.txt\")\n",
    "    ax.plot(gsf_true[:, 0], gsf_true[:, 1]*gsf_scaling, \"k--\", alpha=0.7, label=\"input\")\n",
    "    \n",
    "    fit_values_x = np.array([])\n",
    "    fit_values_y = np.array([])\n",
    "#     for Ex_tmp, x, (popt, pcov), scale in zip(Ex, xs, fits, scaling):\n",
    "#         fit_values_x = np.append(fit_values_x, x)\n",
    "#         fit_values_y = np.append(fit_values_y, fit_func(x, *popt) * scale)\n",
    "#         ax.plot(x, fit_func(x, *popt) * scale, alpha=0.5, label=f\"{Ex_tmp}\")\n",
    "#         # print(np.mean(x))\n",
    "        \n",
    "    for Ex_tmp, group, scale in zip(Ex, groups, scaling):\n",
    "        ax.plot(group[:, 0], group[:, 1] * scale, alpha=0.5, label=f\"{Ex_tmp}\")\n",
    "        # print(np.mean(x))\n",
    "\n",
    "    fig.legend(ncol=5)\n",
    "    ax.set_yscale(\"log\")"
   ]
  },
  {
   "cell_type": "code",
   "execution_count": 38,
   "metadata": {
    "scrolled": true
   },
   "outputs": [
    {
     "data": {
      "application/vnd.jupyter.widget-view+json": {
       "model_id": "40dfc0f0a1f94653b4be5b12326498e3",
       "version_major": 2,
       "version_minor": 0
      },
      "text/plain": [
       "interactive(children=(FloatSlider(value=0.05, description='gsf_scaling', max=0.2, min=0.05, step=0.01), Output…"
      ]
     },
     "metadata": {},
     "output_type": "display_data"
    },
    {
     "data": {
      "text/plain": [
       "<function __main__.plot(gsf_scaling=0.05)>"
      ]
     },
     "execution_count": 38,
     "metadata": {},
     "output_type": "execute_result"
    }
   ],
   "source": [
    "interact(plot, gsf_scaling=(0.05, 0.2, 0.01))\n"
   ]
  }
 ],
 "metadata": {
  "kernelspec": {
   "display_name": "Python 3",
   "language": "python",
   "name": "python3"
  },
  "language_info": {
   "codemirror_mode": {
    "name": "ipython",
    "version": 3
   },
   "file_extension": ".py",
   "mimetype": "text/x-python",
   "name": "python",
   "nbconvert_exporter": "python",
   "pygments_lexer": "ipython3",
   "version": "3.7.3"
  }
 },
 "nbformat": 4,
 "nbformat_minor": 2
}
